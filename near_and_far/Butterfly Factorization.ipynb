{
  "cells": [
    {
      "cell_type": "markdown",
      "metadata": {},
      "source": [
        "# Butterfly Factorization"
      ]
    },
    {
      "cell_type": "markdown",
      "metadata": {},
      "source": [
        "Following the paper \"[An algorithm for the rapid evaluation \n",
        "of special function transforms](https://doi.org/10.1016/j.acha.2009.08.005)\", by Michael O\u2019Neil, Franco Woolfe, Vladimir Rokhlin."
      ]
    },
    {
      "cell_type": "code",
      "execution_count": 137,
      "metadata": {},
      "outputs": [],
      "source": [
        "import numpy as np\n",
        "import scipy.linalg as la\n",
        "import scipy.linalg.interpolative as sli\n",
        "import matplotlib.pyplot as plt\n",
        "import scipy.special as sps"
      ]
    },
    {
      "cell_type": "markdown",
      "metadata": {},
      "source": [
        "## Some Test Matrices"
      ]
    },
    {
      "cell_type": "markdown",
      "metadata": {},
      "source": [
        "### A Matrix for the Discrete Fourier Transform"
      ]
    },
    {
      "cell_type": "code",
      "execution_count": 138,
      "metadata": {},
      "outputs": [],
      "source": [
        "nlevels = 9\n",
        "n = 2**(nlevels + 2)"
      ]
    },
    {
      "cell_type": "code",
      "execution_count": 139,
      "metadata": {},
      "outputs": [],
      "source": [
        "omega = np.exp(2*np.pi*1j/n)\n",
        "\n",
        "ns = np.arange(n)\n",
        "exponents = ns.reshape(-1, 1) * ns\n",
        "\n",
        "dft = 1/np.sqrt(n)*omega**exponents\n",
        "idft = 1/np.sqrt(n)*omega**-exponents"
      ]
    },
    {
      "cell_type": "code",
      "execution_count": 140,
      "metadata": {},
      "outputs": [
        {
          "data": {
            "text/plain": [
              "5.20786734297556e-11"
            ]
          },
          "execution_count": 140,
          "metadata": {},
          "output_type": "execute_result"
        }
      ],
      "source": [
        "la.norm(np.abs(idft @ dft) - np.eye(n))"
      ]
    },
    {
      "cell_type": "markdown",
      "metadata": {},
      "source": [
        "### Chebyshev Transform"
      ]
    },
    {
      "cell_type": "code",
      "execution_count": 141,
      "metadata": {},
      "outputs": [],
      "source": [
        "k = n-1\n",
        "\n",
        "i = np.arange(0, k+1)\n",
        "x = np.linspace(-1, 1, 3000)\n",
        "\n",
        "nodes = np.cos(i/k*np.pi)\n",
        "\n",
        "i = np.arange(n, dtype=np.float64)\n",
        "nodes = np.cos((2*(i+1)-1)/(2*n)*np.pi)\n",
        "chebyshev_vdm = np.cos(i*np.arccos(nodes.reshape(-1, 1)))"
      ]
    },
    {
      "cell_type": "code",
      "execution_count": 142,
      "metadata": {},
      "outputs": [
        {
          "data": {
            "text/plain": [
              "array([[2048.,    0.,   -0., ...,    0.,    0.,   -0.],\n",
              "       [   0., 1024.,    0., ...,    0.,    0.,    0.],\n",
              "       [  -0.,    0., 1024., ...,    0.,    0.,   -0.],\n",
              "       ...,\n",
              "       [   0.,    0.,    0., ..., 1024.,    0.,   -0.],\n",
              "       [   0.,    0.,    0., ...,    0., 1024.,    0.],\n",
              "       [  -0.,    0.,   -0., ...,   -0.,    0., 1024.]])"
            ]
          },
          "execution_count": 142,
          "metadata": {},
          "output_type": "execute_result"
        }
      ],
      "source": [
        "(chebyshev_vdm.T @ chebyshev_vdm).round(2)"
      ]
    },
    {
      "cell_type": "markdown",
      "metadata": {},
      "source": [
        "### A Random Matrix"
      ]
    },
    {
      "cell_type": "code",
      "execution_count": 143,
      "metadata": {},
      "outputs": [],
      "source": [
        "randmat = np.random.randn(n, n)"
      ]
    },
    {
      "cell_type": "markdown",
      "metadata": {},
      "source": [
        "## A Matrix Slicing Helper"
      ]
    },
    {
      "cell_type": "code",
      "execution_count": 144,
      "metadata": {},
      "outputs": [],
      "source": [
        "class Level:\n",
        "    def __init__(self, level, nlevels, n=None):\n",
        "        self.level = level\n",
        "        self.nlevels = nlevels\n",
        "        \n",
        "        if level > nlevels:\n",
        "            raise ValueError(\"level too large\")\n",
        "            \n",
        "        if n is None:\n",
        "            n = 2**nlevels\n",
        "        self.n = n\n",
        "        \n",
        "    @property\n",
        "    def nblock_rows(self):\n",
        "        return 2**self.level\n",
        "        \n",
        "    @property\n",
        "    def block_nrows(self):\n",
        "        return self.n//self.nblock_rows\n",
        "\n",
        "    @property\n",
        "    def nblock_cols(self):\n",
        "        return 2**(self.nlevels-self.level)\n",
        "        \n",
        "    @property\n",
        "    def block_ncols(self):\n",
        "        return self.n//self.nblock_cols\n",
        "    \n",
        "    def matview(self, bi, bj, mat):\n",
        "        br = self.block_nrows\n",
        "        bc = self.block_ncols\n",
        "        return mat[br*bi:br*(bi+1), bc*bj:bc*(bj+1)]\n",
        "    \n",
        "    def rowview(self, bi, vec):\n",
        "        br = self.block_nrows\n",
        "        return vec[br*bi:br*(bi+1)]\n",
        "    \n",
        "    def colview(self, bj, vec):\n",
        "        bc = self.block_ncols\n",
        "        return vec[bc*bj:bc*(bj+1)]"
      ]
    },
    {
      "cell_type": "code",
      "execution_count": 145,
      "metadata": {},
      "outputs": [
        {
          "data": {
            "text/plain": [
              "(256, 0)"
            ]
          },
          "execution_count": 145,
          "metadata": {},
          "output_type": "execute_result"
        }
      ],
      "source": [
        "Level(0, nlevels, 256).matview(0, 0, dft).shape"
      ]
    },
    {
      "cell_type": "markdown",
      "metadata": {},
      "source": [
        "## Rank-Revealing Factorization"
      ]
    },
    {
      "cell_type": "code",
      "execution_count": 146,
      "metadata": {},
      "outputs": [],
      "source": [
        "epsilon = 1e-10"
      ]
    },
    {
      "cell_type": "code",
      "execution_count": 147,
      "metadata": {},
      "outputs": [],
      "source": [
        "# ID\n",
        "\n",
        "def id_decomp(A):\n",
        "    k, idx, proj = sli.interp_decomp(A, epsilon)\n",
        "    sort_idx = np.argsort(idx)\n",
        "    B = A[:,idx[:k]]\n",
        "    P = np.hstack([np.eye(k), proj])[:,np.argsort(idx)]\n",
        "    return B, P"
      ]
    },
    {
      "cell_type": "code",
      "execution_count": 148,
      "metadata": {},
      "outputs": [],
      "source": [
        "# Rank-Revealing Truncated QR\n",
        "\n",
        "def qr_decomp(A):\n",
        "    q, r, p = la.qr(A, pivoting=True, mode=\"economic\")\n",
        "    diag_r = np.diag(r)\n",
        "    r = r[:, np.argsort(p)]\n",
        "    \n",
        "    flags = np.abs(diag_r) >= epsilon\n",
        "    q = q[:, flags]\n",
        "    r = r[flags]\n",
        "    return q, r"
      ]
    },
    {
      "cell_type": "code",
      "execution_count": 149,
      "metadata": {},
      "outputs": [],
      "source": [
        "#decomp = qr_decomp\n",
        "decomp = id_decomp"
      ]
    },
    {
      "cell_type": "code",
      "execution_count": 150,
      "metadata": {},
      "outputs": [
        {
          "data": {
            "text/plain": [
              "1.0565353581388183e-10"
            ]
          },
          "execution_count": 150,
          "metadata": {},
          "output_type": "execute_result"
        }
      ],
      "source": [
        "def make_low_rank_matrix(n):\n",
        "    A0 = np.random.randn(n, n)\n",
        "    U0, sigma0, VT0 = la.svd(A0)\n",
        "    sigma = np.exp(-np.arange(n))\n",
        "    return (U0 * sigma).dot(VT0)\n",
        "\n",
        "Atest = make_low_rank_matrix(100)\n",
        "Btest, Ptest = decomp(Atest)\n",
        "\n",
        "la.norm(Atest - Btest@Ptest)/la.norm(Atest)"
      ]
    },
    {
      "cell_type": "code",
      "execution_count": 151,
      "metadata": {},
      "outputs": [
        {
          "data": {
            "text/plain": [
              "<matplotlib.image.AxesImage at 0x7fdb14b90b10>"
            ]
          },
          "execution_count": 151,
          "metadata": {},
          "output_type": "execute_result"
        },
        {
          "data": {
            "image/png": "[encoded data removed]",
            "text/plain": [
              "<Figure size 432x288 with 1 Axes>"
            ]
          },
          "metadata": {
            "needs_background": "light"
          },
          "output_type": "display_data"
        }
      ],
      "source": [
        "plt.imshow(Ptest)"
      ]
    },
    {
      "cell_type": "markdown",
      "metadata": {},
      "source": [
        "## Precomputation"
      ]
    },
    {
      "cell_type": "code",
      "execution_count": 164,
      "metadata": {},
      "outputs": [],
      "source": [
        "A = dft\n",
        "\n",
        "# keys: [level][i, j]\n",
        "Ps = [{} for i in range(nlevels+1)]\n",
        "Bs = [{} for i in range(nlevels+1)] "
      ]
    },
    {
      "cell_type": "markdown",
      "metadata": {},
      "source": [
        "### Level 0"
      ]
    },
    {
      "cell_type": "code",
      "execution_count": 165,
      "metadata": {},
      "outputs": [],
      "source": [
        "lev = Level(0, nlevels, n)\n",
        "\n",
        "assert lev.nblock_rows == 1\n",
        "for i in range(lev.nblock_rows):\n",
        "    for j in range(lev.nblock_cols):\n",
        "        Bs[0][i, j], Ps[0][i, j] = decomp(lev.matview(i, j, A))"
      ]
    },
    {
      "cell_type": "markdown",
      "metadata": {},
      "source": [
        "### Levels 1, ..., L"
      ]
    },
    {
      "cell_type": "code",
      "execution_count": 166,
      "metadata": {},
      "outputs": [
        {
          "name": "stdout",
          "output_type": "stream",
          "text": [
            "Level 1: 1024x8\n",
            "prev level B: 2048x4\n",
            "bblock (top): 1024x8\n",
            "ID: 1024x8 8x8\n",
            "\n",
            "Level 2: 512x16\n",
            "prev level B: 1024x8\n",
            "bblock (top): 512x16\n",
            "ID: 512x16 16x16\n",
            "\n",
            "Level 3: 256x32\n",
            "prev level B: 512x16\n",
            "bblock (top): 256x32\n",
            "ID: 256x17 17x32\n",
            "\n",
            "Level 4: 128x64\n",
            "prev level B: 256x17\n",
            "bblock (top): 128x34\n",
            "ID: 128x17 17x34\n",
            "\n",
            "Level 5: 64x128\n",
            "prev level B: 128x17\n",
            "bblock (top): 64x34\n",
            "ID: 64x17 17x34\n",
            "\n",
            "Level 6: 32x256\n",
            "prev level B: 64x17\n",
            "bblock (top): 32x34\n",
            "ID: 32x17 17x34\n",
            "\n",
            "Level 7: 16x512\n",
            "prev level B: 32x17\n",
            "bblock (top): 16x34\n",
            "ID: 16x16 16x34\n",
            "\n",
            "Level 8: 8x1024\n",
            "prev level B: 16x16\n",
            "bblock (top): 8x32\n",
            "ID: 8x8 8x32\n",
            "\n",
            "Level 9: 4x2048\n",
            "prev level B: 8x8\n",
            "bblock (top): 4x16\n",
            "ID: 4x4 4x16\n",
            "\n"
          ]
        }
      ],
      "source": [
        "for ilev in range(1, nlevels + 1):\n",
        "    lev = Level(ilev, nlevels, n)\n",
        "\n",
        "    for j in range(lev.nblock_rows):\n",
        "        for k in range(lev.nblock_cols):\n",
        "            # only process even j\n",
        "            if j % 2 != 0:\n",
        "                continue\n",
        "                \n",
        "            bblock = np.hstack((\n",
        "                Bs[ilev-1][j//2, 2*k],\n",
        "                Bs[ilev-1][j//2, 2*k+1],\n",
        "                ))\n",
        "            bblock_top = bblock[:lev.block_nrows]\n",
        "            bblock_bottom = bblock[lev.block_nrows:]\n",
        "            assert len(bblock_top)*2 == len(bblock)\n",
        "            \n",
        "            Bs[ilev][j, k], Ps[ilev][j, k] = decomp(bblock_top)\n",
        "            Bs[ilev][j+1, k], Ps[ilev][j+1, k] = decomp(bblock_bottom)\n",
        "\n",
        "            if (j, k) == (0, 0):\n",
        "                print(f\"Level {ilev}: {lev.block_nrows}x{lev.block_ncols}\")\n",
        "                pB = Bs[ilev-1][j//2, 2*k].shape\n",
        "                print(f\"prev level B: {pB[0]}x{pB[1]}\")\n",
        "                print(f\"bblock (top): {bblock_top.shape[0]}x{bblock_top.shape[1]}\")\n",
        "                tB = Bs[ilev][j, k].shape\n",
        "                tP = Ps[ilev][j, k].shape\n",
        "                print(f\"ID: {tB[0]}x{tB[1]} {tP[0]}x{tP[1]}\")\n",
        "                print()"
      ]
    },
    {
      "cell_type": "code",
      "execution_count": 168,
      "metadata": {},
      "outputs": [
        {
          "data": {
            "text/plain": [
              "Text(0, 0.5, 'Rank')"
            ]
          },
          "execution_count": 168,
          "metadata": {},
          "output_type": "execute_result"
        },
        {
          "data": {
            "image/png": "[encoded data removed]",
            "text/plain": [
              "<Figure size 432x288 with 1 Axes>"
            ]
          },
          "metadata": {
            "needs_background": "light"
          },
          "output_type": "display_data"
        }
      ],
      "source": [
        "levels = []\n",
        "ranks = []\n",
        "\n",
        "for ilev in range(1, nlevels + 1):\n",
        "    levels.append(ilev)\n",
        "    ranks.append(Bs[ilev][0,0].shape[1])\n",
        "    \n",
        "plt.plot(levels, ranks, \"o-\")\n",
        "plt.grid()\n",
        "plt.xlabel(\"Level\")\n",
        "plt.ylabel(\"Rank\")"
      ]
    },
    {
      "cell_type": "markdown",
      "metadata": {},
      "source": [
        "Only the last-level $B$ actually needs to be retained:"
      ]
    },
    {
      "cell_type": "code",
      "execution_count": 169,
      "metadata": {},
      "outputs": [],
      "source": [
        "LLB = Bs[-1]\n",
        "del Bs"
      ]
    },
    {
      "cell_type": "markdown",
      "metadata": {},
      "source": [
        "## Matvec\n",
        "\n",
        "First, generate a random input:"
      ]
    },
    {
      "cell_type": "code",
      "execution_count": 170,
      "metadata": {},
      "outputs": [],
      "source": [
        "x = np.random.randn(n)"
      ]
    },
    {
      "cell_type": "markdown",
      "metadata": {},
      "source": [
        "### Setup"
      ]
    },
    {
      "cell_type": "code",
      "execution_count": 171,
      "metadata": {},
      "outputs": [],
      "source": [
        "# keys: [ilevel][i, j]\n",
        "betas = [{} for i in range(nlevels+1)]"
      ]
    },
    {
      "cell_type": "markdown",
      "metadata": {},
      "source": [
        "### Level 0"
      ]
    },
    {
      "cell_type": "code",
      "execution_count": 172,
      "metadata": {},
      "outputs": [],
      "source": [
        "lev = Level(0, nlevels, n)\n",
        "\n",
        "assert lev.nblock_rows == 1\n",
        "for i in range(lev.nblock_rows):\n",
        "    for j in range(lev.nblock_cols):\n",
        "        betas[0][i, j] = Ps[0][i, j] @ lev.colview(j, x)"
      ]
    },
    {
      "cell_type": "markdown",
      "metadata": {},
      "source": [
        "### Level 1, ..., L"
      ]
    },
    {
      "cell_type": "code",
      "execution_count": 173,
      "metadata": {},
      "outputs": [],
      "source": [
        "for ilev in range(1, nlevels + 1):\n",
        "    lev = Level(ilev, nlevels, n)\n",
        "\n",
        "    for j in range(lev.nblock_rows):\n",
        "        for k in range(lev.nblock_cols):\n",
        "            beta_glued = np.hstack((\n",
        "                betas[ilev-1][j//2, 2*k],\n",
        "                betas[ilev-1][j//2, 2*k+1]\n",
        "                ))\n",
        "            \n",
        "            betas[ilev][j, k] = Ps[ilev][j, k] @ beta_glued"
      ]
    },
    {
      "cell_type": "markdown",
      "metadata": {},
      "source": [
        "### Postprocess"
      ]
    },
    {
      "cell_type": "code",
      "execution_count": 174,
      "metadata": {},
      "outputs": [],
      "source": [
        "Ax = np.zeros(n, dtype=np.complex128)\n",
        "\n",
        "lev = Level(nlevels, nlevels, n)\n",
        "\n",
        "assert lev.nblock_cols == 1\n",
        "for j in range(lev.nblock_rows):\n",
        "    for k in range(lev.nblock_cols):\n",
        "        lev.rowview(j, Ax)[:] = LLB[j, k] @ betas[nlevels][j, k]"
      ]
    },
    {
      "cell_type": "code",
      "execution_count": 175,
      "metadata": {},
      "outputs": [
        {
          "data": {
            "text/plain": [
              "7.199035602677768e-11"
            ]
          },
          "execution_count": 175,
          "metadata": {},
          "output_type": "execute_result"
        }
      ],
      "source": [
        "la.norm(Ax - A@x)/la.norm(A@x)"
      ]
    },
    {
      "cell_type": "code",
      "execution_count": null,
      "metadata": {},
      "outputs": [],
      "source": []
    }
  ],
  "metadata": {
    "kernelspec": {
      "display_name": "Python 3",
      "language": "python",
      "name": "python3"
    },
    "language_info": {
      "codemirror_mode": {
        "name": "ipython",
        "version": 3
      },
      "file_extension": ".py",
      "mimetype": "text/x-python",
      "name": "python",
      "nbconvert_exporter": "python",
      "pygments_lexer": "ipython3",
      "version": "3.7.4+"
    }
  },
  "nbformat": 4,
  "nbformat_minor": 2
}