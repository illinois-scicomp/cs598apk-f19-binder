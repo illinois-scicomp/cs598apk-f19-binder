{
  "cells": [
    {
      "cell_type": "markdown",
      "metadata": {},
      "source": [
        "# Skeletonization using Proxies"
      ]
    },
    {
      "cell_type": "code",
      "execution_count": 1,
      "metadata": {},
      "outputs": [],
      "source": [
        "import numpy as np\n",
        "import numpy.linalg as la\n",
        "import matplotlib.pyplot as pt\n",
        "\n",
        "import scipy.linalg.interpolative as sli\n",
        "\n",
        "eps = 1e-7"
      ]
    },
    {
      "cell_type": "code",
      "execution_count": 2,
      "metadata": {},
      "outputs": [
        {
          "data": {
            "image/png": "[encoded data removed]",
            "text/plain": [
              "<matplotlib.figure.Figure at 0x7fd7ac83d160>"
            ]
          },
          "metadata": {},
          "output_type": "display_data"
        }
      ],
      "source": [
        "sources = np.random.rand(2, 200)\n",
        "targets = np.random.rand(2, 200) + 3\n",
        "\n",
        "pt.plot(sources[0], sources[1], \"go\")\n",
        "pt.plot(targets[0], targets[1], \"ro\")\n",
        "\n",
        "pt.xlim([-1, 5])\n",
        "pt.ylim([-1, 5])\n",
        "\n",
        "pt.gca().set_aspect(\"equal\")"
      ]
    },
    {
      "cell_type": "code",
      "execution_count": 3,
      "metadata": {},
      "outputs": [],
      "source": [
        "def interaction_mat(t, s):\n",
        "    all_distvecs = s.reshape(2, 1, -1) - t.reshape(2, -1, 1)\n",
        "    dists = np.sqrt(np.sum(all_distvecs**2, axis=0))\n",
        "    return np.log(dists)"
      ]
    },
    {
      "cell_type": "code",
      "execution_count": 4,
      "metadata": {},
      "outputs": [],
      "source": [
        "def numerical_rank(A, eps):\n",
        "    _, sigma, _ = la.svd(A)\n",
        "    return np.sum(sigma >= eps)"
      ]
    },
    {
      "cell_type": "markdown",
      "metadata": {},
      "source": [
        "Check the interaction rank:"
      ]
    },
    {
      "cell_type": "code",
      "execution_count": 5,
      "metadata": {},
      "outputs": [
        {
          "data": {
            "text/plain": [
              "9"
            ]
          },
          "execution_count": 5,
          "metadata": {},
          "output_type": "execute_result"
        }
      ],
      "source": [
        "numerical_rank(interaction_mat(targets, sources), eps)"
      ]
    },
    {
      "cell_type": "markdown",
      "metadata": {},
      "source": [
        "**Idea:**\n",
        "\n",
        "* Don't want to build whole matrix to find the few rows/columns that actually matter.\n",
        "* Introduces \"proxies\" that stand in for\n",
        "    * *all sources outside the targets* or\n",
        "    * *all targets outside these sources*"
      ]
    },
    {
      "cell_type": "markdown",
      "metadata": {},
      "source": [
        "## Target Skeletonization"
      ]
    },
    {
      "cell_type": "code",
      "execution_count": 38,
      "metadata": {},
      "outputs": [],
      "source": [
        "nproxies = 25\n",
        "\n",
        "angles = np.linspace(0, 2*np.pi, nproxies)\n",
        "target_proxies = 3.5 + 1.5 * np.array([np.cos(angles), np.sin(angles)])"
      ]
    },
    {
      "cell_type": "code",
      "execution_count": 39,
      "metadata": {},
      "outputs": [
        {
          "data": {
            "image/png": "[encoded data removed]",
            "text/plain": [
              "<matplotlib.figure.Figure at 0x7fd7ac14ebe0>"
            ]
          },
          "metadata": {},
          "output_type": "display_data"
        }
      ],
      "source": [
        "pt.plot(sources[0], sources[1], \"go\")\n",
        "pt.plot(targets[0], targets[1], \"ro\")\n",
        "pt.plot(target_proxies[0], target_proxies[1], \"bo\")\n",
        "\n",
        "pt.xlim([-1, 5])\n",
        "pt.ylim([-1, 5])\n",
        "\n",
        "pt.gca().set_aspect(\"equal\")"
      ]
    },
    {
      "cell_type": "markdown",
      "metadata": {},
      "source": [
        "Construct the interaction matrix *from* the target proxies *to* the targets as `target_proxy_mat`.\n",
        "\n",
        "**A note on terminology:** The `target_proxies` are *near* the targets but *stand in* for far-away sources."
      ]
    },
    {
      "cell_type": "code",
      "execution_count": 61,
      "metadata": {},
      "outputs": [],
      "source": [
        "target_proxy_mat = interaction_mat(targets, target_proxies)"
      ]
    },
    {
      "cell_type": "markdown",
      "metadata": {},
      "source": [
        "Check its numerical rank and shape:"
      ]
    },
    {
      "cell_type": "code",
      "execution_count": 62,
      "metadata": {},
      "outputs": [
        {
          "data": {
            "text/plain": [
              "24"
            ]
          },
          "execution_count": 62,
          "metadata": {},
          "output_type": "execute_result"
        }
      ],
      "source": [
        "numerical_rank(target_proxy_mat, eps)"
      ]
    },
    {
      "cell_type": "code",
      "execution_count": 42,
      "metadata": {},
      "outputs": [
        {
          "data": {
            "text/plain": [
              "(200, 25)"
            ]
          },
          "execution_count": 42,
          "metadata": {},
          "output_type": "execute_result"
        }
      ],
      "source": [
        "target_proxy_mat.shape"
      ]
    },
    {
      "cell_type": "markdown",
      "metadata": {},
      "source": [
        "Now compute an ID (row or column?):"
      ]
    },
    {
      "cell_type": "code",
      "execution_count": 43,
      "metadata": {},
      "outputs": [],
      "source": [
        "idx, proj = sli.interp_decomp(target_proxy_mat.T, nproxies)"
      ]
    },
    {
      "cell_type": "markdown",
      "metadata": {},
      "source": [
        "Find the target skeleton as `target_skeleton`, i.e. the indices of the targets from which the remaining values can be recovered:"
      ]
    },
    {
      "cell_type": "code",
      "execution_count": 44,
      "metadata": {},
      "outputs": [],
      "source": [
        "target_skeleton = idx[:nproxies]"
      ]
    },
    {
      "cell_type": "markdown",
      "metadata": {},
      "source": [
        "Check that the ID does what is promises:"
      ]
    },
    {
      "cell_type": "code",
      "execution_count": 45,
      "metadata": {},
      "outputs": [
        {
          "data": {
            "text/plain": [
              "5.7389031370755866e-15"
            ]
          },
          "execution_count": 45,
          "metadata": {},
          "output_type": "execute_result"
        }
      ],
      "source": [
        "P = np.hstack([np.eye(nproxies), proj])[:,np.argsort(idx)]\n",
        "tpm_approx = P.T.dot(target_proxy_mat[target_skeleton])\n",
        "\n",
        "la.norm(tpm_approx - target_proxy_mat, 2)"
      ]
    },
    {
      "cell_type": "markdown",
      "metadata": {},
      "source": [
        "Plot the chosen proxies:"
      ]
    },
    {
      "cell_type": "code",
      "execution_count": 46,
      "metadata": {},
      "outputs": [
        {
          "data": {
            "image/png": "[encoded data removed]",
            "text/plain": [
              "<matplotlib.figure.Figure at 0x7fd7ac0e4828>"
            ]
          },
          "metadata": {},
          "output_type": "display_data"
        }
      ],
      "source": [
        "pt.plot(sources[0], sources[1], \"go\")\n",
        "pt.plot(targets[0], targets[1], \"ro\", alpha=0.05)\n",
        "pt.plot(targets[0, target_skeleton], targets[1, target_skeleton], \"ro\")\n",
        "pt.plot(target_proxies[0], target_proxies[1], \"bo\")\n",
        "\n",
        "pt.xlim([-1, 5])\n",
        "pt.ylim([-1, 5])\n",
        "\n",
        "pt.gca().set_aspect(\"equal\")"
      ]
    },
    {
      "cell_type": "markdown",
      "metadata": {},
      "source": [
        "What does this mean?\n",
        "\n",
        "* We have now got a moral equivalent to a local expansion: The point values at the target skeleton points.\n",
        "* Is it a coincidence that the skeleton points sit at the boundary of the target region?\n",
        "* How many target proxies should we choose?\n",
        "* Can cheaply recompute potential at any target from those few points.\n",
        "* Have thus reduce LA-based evaluation cost to same as expansion-based cost.\n",
        "\n",
        "Can we come up with an equivalent of a multipole expansion?"
      ]
    },
    {
      "cell_type": "markdown",
      "metadata": {},
      "source": [
        "----------------\n",
        "\n",
        "Check that this works for 'our' sources:"
      ]
    },
    {
      "cell_type": "code",
      "execution_count": 49,
      "metadata": {},
      "outputs": [
        {
          "data": {
            "text/plain": [
              "6.1074574232342807e-09"
            ]
          },
          "execution_count": 49,
          "metadata": {},
          "output_type": "execute_result"
        }
      ],
      "source": [
        "imat_error = (\n",
        "    P.T.dot(interaction_mat(targets[:, target_skeleton], sources))\n",
        "    -\n",
        "    interaction_mat(targets, sources))\n",
        "\n",
        "la.norm(imat_error, 2)"
      ]
    },
    {
      "cell_type": "markdown",
      "metadata": {},
      "source": [
        "## Source Skeletonization"
      ]
    },
    {
      "cell_type": "code",
      "execution_count": 54,
      "metadata": {},
      "outputs": [],
      "source": [
        "nproxies = 25\n",
        "\n",
        "angles = np.linspace(0, 2*np.pi, nproxies)\n",
        "source_proxies = 0.5 + 1.5 * np.array([np.cos(angles), np.sin(angles)])"
      ]
    },
    {
      "cell_type": "code",
      "execution_count": 56,
      "metadata": {},
      "outputs": [
        {
          "data": {
            "image/png": "[encoded data removed]",
            "text/plain": [
              "<matplotlib.figure.Figure at 0x7fd7ac867b00>"
            ]
          },
          "metadata": {},
          "output_type": "display_data"
        }
      ],
      "source": [
        "pt.plot(sources[0], sources[1], \"go\")\n",
        "pt.plot(targets[0], targets[1], \"ro\")\n",
        "pt.plot(source_proxies[0], source_proxies[1], \"bo\")\n",
        "\n",
        "pt.xlim([-1, 5])\n",
        "pt.ylim([-1, 5])\n",
        "\n",
        "pt.gca().set_aspect(\"equal\")"
      ]
    },
    {
      "cell_type": "markdown",
      "metadata": {},
      "source": [
        "Construct the interaction matrix *from* the sources *to* the source proxies as `source_proxy_mat`:\n",
        "\n",
        "**A note on terminology:** The `source_proxies` are *near* the sources but *stand in* for far-away targets."
      ]
    },
    {
      "cell_type": "code",
      "execution_count": 73,
      "metadata": {},
      "outputs": [],
      "source": [
        "source_proxy_mat = interaction_mat(source_proxies, sources)"
      ]
    },
    {
      "cell_type": "code",
      "execution_count": 74,
      "metadata": {},
      "outputs": [
        {
          "data": {
            "text/plain": [
              "(25, 200)"
            ]
          },
          "execution_count": 74,
          "metadata": {},
          "output_type": "execute_result"
        }
      ],
      "source": [
        "source_proxy_mat.shape"
      ]
    },
    {
      "cell_type": "markdown",
      "metadata": {},
      "source": [
        "Now compute an ID (row or column?):"
      ]
    },
    {
      "cell_type": "code",
      "execution_count": 75,
      "metadata": {},
      "outputs": [],
      "source": [
        "idx, proj = sli.interp_decomp(source_proxy_mat, nproxies)"
      ]
    },
    {
      "cell_type": "code",
      "execution_count": 76,
      "metadata": {},
      "outputs": [],
      "source": [
        "source_skeleton = idx[:nproxies]"
      ]
    },
    {
      "cell_type": "code",
      "execution_count": 78,
      "metadata": {},
      "outputs": [
        {
          "data": {
            "text/plain": [
              "6.3367197566876269e-15"
            ]
          },
          "execution_count": 78,
          "metadata": {},
          "output_type": "execute_result"
        }
      ],
      "source": [
        "P = np.hstack([np.eye(nproxies), proj])[:,np.argsort(idx)]\n",
        "tsm_approx = source_proxy_mat[:, source_skeleton].dot(P)\n",
        "\n",
        "la.norm(tsm_approx - source_proxy_mat, 2)"
      ]
    },
    {
      "cell_type": "markdown",
      "metadata": {},
      "source": [
        "Plot the chosen proxies:"
      ]
    },
    {
      "cell_type": "code",
      "execution_count": 79,
      "metadata": {},
      "outputs": [
        {
          "data": {
            "image/png": "[encoded data removed]",
            "text/plain": [
              "<matplotlib.figure.Figure at 0x7fd7ac113e80>"
            ]
          },
          "metadata": {},
          "output_type": "display_data"
        }
      ],
      "source": [
        "pt.plot(sources[0], sources[1], \"go\", alpha=0.05)\n",
        "pt.plot(targets[0], targets[1], \"ro\")\n",
        "pt.plot(sources[0, source_skeleton], sources[1, source_skeleton], \"go\")\n",
        "pt.plot(source_proxies[0], source_proxies[1], \"bo\")\n",
        "\n",
        "pt.xlim([-1, 5])\n",
        "pt.ylim([-1, 5])\n",
        "\n",
        "pt.gca().set_aspect(\"equal\")"
      ]
    },
    {
      "cell_type": "markdown",
      "metadata": {},
      "source": [
        "Check that it works for 'our' targets:"
      ]
    },
    {
      "cell_type": "code",
      "execution_count": 81,
      "metadata": {},
      "outputs": [
        {
          "data": {
            "text/plain": [
              "1.5507578112941745e-08"
            ]
          },
          "execution_count": 81,
          "metadata": {},
          "output_type": "execute_result"
        }
      ],
      "source": [
        "imat_error = (\n",
        "    interaction_mat(targets, sources[:, source_skeleton]).dot(P)\n",
        "    -\n",
        "    interaction_mat(targets, sources))\n",
        "\n",
        "la.norm(imat_error, 2)"
      ]
    },
    {
      "cell_type": "markdown",
      "metadata": {},
      "source": [
        "* Sensibly, this is just the transpose of the target skeletonization process.\n",
        "    * For a given point cluster, the same skeleton can serve for target and source skeletonization!\n",
        "* Computationally, starting from your original charges $x$, you accumulate 'new' charges $Px$ at the skeleton points and then *only* compute the interaction from the source skeleton to the targets."
      ]
    }
  ],
  "metadata": {
    "kernelspec": {
      "display_name": "Python 3",
      "language": "python",
      "name": "python3"
    },
    "language_info": {
      "codemirror_mode": {
        "name": "ipython",
        "version": 3
      },
      "file_extension": ".py",
      "mimetype": "text/x-python",
      "name": "python",
      "nbconvert_exporter": "python",
      "pygments_lexer": "ipython3",
      "version": "3.6.2"
    }
  },
  "nbformat": 4,
  "nbformat_minor": 2
}