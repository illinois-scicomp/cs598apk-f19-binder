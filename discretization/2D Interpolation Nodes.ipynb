{
  "cells": [
    {
      "cell_type": "markdown",
      "metadata": {},
      "source": [
        "# Interpolation nodes in 2D"
      ]
    },
    {
      "cell_type": "code",
      "execution_count": 3,
      "metadata": {
        "collapsed": false
      },
      "outputs": [
        {
          "data": {
            "image/png": "[encoded data removed]",
            "text/plain": [
              "<matplotlib.figure.Figure at 0x7fa2acb74940>"
            ]
          },
          "metadata": {},
          "output_type": "display_data"
        }
      ],
      "source": [
        "import matplotlib.pyplot as pt\n",
        "\n",
        "import numpy as np\n",
        "\n",
        "import modepy as mp\n",
        "\n",
        "\n",
        "\n",
        "nodes = mp.warp_and_blend_nodes(2, 10)\n",
        "\n",
        "pt.plot(nodes[0], nodes[1], \"x\")\n",
        "\n",
        "\n",
        "\n",
        "tri = np.array([(-1, -1), (1, -1), (-1, 1), (-1, -1)]).T\n",
        "\n",
        "\n",
        "\n",
        "pt.plot(nodes[0], nodes[1], \"x\")\n",
        "\n",
        "pt.plot(tri[0], tri[1], \"-b\")\n",
        "\n",
        "pt.gca().set_aspect(\"equal\")"
      ]
    },
    {
      "cell_type": "code",
      "execution_count": null,
      "metadata": {
        "collapsed": false
      },
      "outputs": [],
      "source": []
    }
  ],
  "metadata": {},
  "nbformat": 4,
  "nbformat_minor": 2
}