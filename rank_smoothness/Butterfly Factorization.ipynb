{
  "cells": [
    {
      "cell_type": "markdown",
      "metadata": {},
      "source": [
        "# Butterfly Factorization"
      ]
    },
    {
      "cell_type": "markdown",
      "metadata": {},
      "source": [
        "Following the paper \"[An algorithm for the rapid evaluation \n",
        "of special function transforms](https://doi.org/10.1016/j.acha.2009.08.005)\", by Michael O\u2019Neil, Franco Woolfe, Vladimir Rokhlin."
      ]
    },
    {
      "cell_type": "code",
      "execution_count": 1,
      "metadata": {},
      "outputs": [],
      "source": [
        "import numpy as np\n",
        "import numpy.linalg as la\n",
        "import scipy.linalg.interpolative as sli\n",
        "import matplotlib.pyplot as plt"
      ]
    },
    {
      "cell_type": "markdown",
      "metadata": {},
      "source": [
        "## A Matrix for the Discrete Fourier Transform"
      ]
    },
    {
      "cell_type": "code",
      "execution_count": 2,
      "metadata": {},
      "outputs": [],
      "source": [
        "nlevels = 6\n",
        "n = 2**(nlevels + 2)\n",
        "\n",
        "omega = np.exp(2*np.pi*1j/n)\n",
        "\n",
        "ns = np.arange(n)\n",
        "exponents = ns.reshape(-1, 1) * ns\n",
        "\n",
        "dft = 1/np.sqrt(n)*omega**exponents\n",
        "idft = 1/np.sqrt(n)*omega**-exponents"
      ]
    },
    {
      "cell_type": "code",
      "execution_count": 3,
      "metadata": {},
      "outputs": [
        {
          "data": {
            "text/plain": [
              "1.1675534858569826e-12"
            ]
          },
          "execution_count": 3,
          "metadata": {},
          "output_type": "execute_result"
        }
      ],
      "source": [
        "la.norm(np.abs(idft @ dft) - np.eye(n))"
      ]
    },
    {
      "cell_type": "markdown",
      "metadata": {},
      "source": [
        "## A Matrix Slicing Helper"
      ]
    },
    {
      "cell_type": "code",
      "execution_count": 4,
      "metadata": {},
      "outputs": [],
      "source": [
        "class Level:\n",
        "    def __init__(self, level, nlevels, n=None):\n",
        "        self.level = level\n",
        "        self.nlevels = nlevels\n",
        "        \n",
        "        if level > nlevels:\n",
        "            raise ValueError(\"level too large\")\n",
        "            \n",
        "        if n is None:\n",
        "            n = 2**nlevels\n",
        "        self.n = n\n",
        "        \n",
        "    @property\n",
        "    def nblock_rows(self):\n",
        "        return 2**self.level\n",
        "        \n",
        "    @property\n",
        "    def block_nrows(self):\n",
        "        return self.n//self.nblock_rows\n",
        "\n",
        "    @property\n",
        "    def nblock_cols(self):\n",
        "        return 2**(self.nlevels-self.level)\n",
        "        \n",
        "    @property\n",
        "    def block_ncols(self):\n",
        "        return self.n//self.nblock_cols\n",
        "    \n",
        "    def matview(self, bi, bj, mat):\n",
        "        br = self.block_nrows\n",
        "        bc = self.block_ncols\n",
        "        return mat[br*bi:br*(bi+1), bc*bj:bc*(bj+1)]\n",
        "    \n",
        "    def rowview(self, bi, vec):\n",
        "        br = self.block_nrows\n",
        "        return vec[br*bi:br*(bi+1)]\n",
        "    \n",
        "    def colview(self, bj, vec):\n",
        "        bc = self.block_ncols\n",
        "        return vec[bc*bj:bc*(bj+1)]"
      ]
    },
    {
      "cell_type": "code",
      "execution_count": 5,
      "metadata": {},
      "outputs": [
        {
          "data": {
            "text/plain": [
              "(256, 4)"
            ]
          },
          "execution_count": 5,
          "metadata": {},
          "output_type": "execute_result"
        }
      ],
      "source": [
        "Level(0, nlevels, 256).matview(0, 0, dft).shape"
      ]
    },
    {
      "cell_type": "markdown",
      "metadata": {},
      "source": [
        "## A Helper for the ID"
      ]
    },
    {
      "cell_type": "code",
      "execution_count": 6,
      "metadata": {},
      "outputs": [],
      "source": [
        "epsilon = 1e-10\n",
        "\n",
        "def intp_decomp(A):\n",
        "    k, idx, proj = sli.interp_decomp(A, epsilon)\n",
        "    sort_idx = np.argsort(idx)\n",
        "    B = A[:,idx[:k]]\n",
        "    P = np.hstack([np.eye(k), proj])[:,np.argsort(idx)]\n",
        "    return B, P"
      ]
    },
    {
      "cell_type": "code",
      "execution_count": 7,
      "metadata": {},
      "outputs": [
        {
          "data": {
            "text/plain": [
              "1.5592788371504185e-10"
            ]
          },
          "execution_count": 7,
          "metadata": {},
          "output_type": "execute_result"
        }
      ],
      "source": [
        "def make_low_rank_matrix(n):\n",
        "    A0 = np.random.randn(n, n)\n",
        "    U0, sigma0, VT0 = la.svd(A0)\n",
        "    sigma = np.exp(-np.arange(n))\n",
        "    return (U0 * sigma).dot(VT0)\n",
        "\n",
        "Atest = make_low_rank_matrix(100)\n",
        "Btest, Ptest = intp_decomp(Atest)\n",
        "\n",
        "la.norm(Atest - Btest@Ptest)/la.norm(Atest)"
      ]
    },
    {
      "cell_type": "code",
      "execution_count": 8,
      "metadata": {},
      "outputs": [
        {
          "data": {
            "text/plain": [
              "<matplotlib.image.AxesImage at 0x7efd815df910>"
            ]
          },
          "execution_count": 8,
          "metadata": {},
          "output_type": "execute_result"
        },
        {
          "data": {
            "image/png": "[encoded data removed]",
            "text/plain": [
              "<Figure size 432x288 with 1 Axes>"
            ]
          },
          "metadata": {
            "needs_background": "light"
          },
          "output_type": "display_data"
        }
      ],
      "source": [
        "plt.imshow(Ptest)"
      ]
    },
    {
      "cell_type": "markdown",
      "metadata": {},
      "source": [
        "## Precomputation"
      ]
    },
    {
      "cell_type": "code",
      "execution_count": 9,
      "metadata": {},
      "outputs": [],
      "source": [
        "A = dft\n",
        "\n",
        "# keys: [level][i, j]\n",
        "Ps = [{} for i in range(nlevels+1)]\n",
        "Bs = [{} for i in range(nlevels+1)] "
      ]
    },
    {
      "cell_type": "markdown",
      "metadata": {},
      "source": [
        "### Level 0"
      ]
    },
    {
      "cell_type": "code",
      "execution_count": 10,
      "metadata": {},
      "outputs": [],
      "source": [
        "lev = Level(0, nlevels, n)\n",
        "\n",
        "assert lev.nblock_rows == 1\n",
        "for i in range(lev.nblock_rows):\n",
        "    for j in range(lev.nblock_cols):\n",
        "        Bs[0][i, j], Ps[0][i, j] = intp_decomp(lev.matview(i, j, A))"
      ]
    },
    {
      "cell_type": "markdown",
      "metadata": {},
      "source": [
        "### Levels 1, ..., L"
      ]
    },
    {
      "cell_type": "code",
      "execution_count": 11,
      "metadata": {},
      "outputs": [],
      "source": [
        "for ilev in range(1, nlevels + 1):\n",
        "    lev = Level(ilev, nlevels, n)\n",
        "\n",
        "    for j in range(lev.nblock_rows):\n",
        "        for k in range(lev.nblock_cols):\n",
        "            # only process even j\n",
        "            if j % 2 != 0:\n",
        "                continue\n",
        "                \n",
        "            bblock = np.hstack((\n",
        "                Bs[ilev-1][j//2, 2*k],\n",
        "                Bs[ilev-1][j//2, 2*k+1],\n",
        "                ))\n",
        "            bblock_top = bblock[:lev.block_nrows]\n",
        "            bblock_bottom = bblock[lev.block_nrows:]\n",
        "            assert len(bblock_top)*2 == len(bblock)\n",
        "            \n",
        "            Bs[ilev][j, k], Ps[ilev][j, k] = intp_decomp(bblock_top)\n",
        "            Bs[ilev][j+1, k], Ps[ilev][j+1, k] = intp_decomp(bblock_bottom)"
      ]
    },
    {
      "cell_type": "markdown",
      "metadata": {},
      "source": [
        "Only the last-level $B$ actually needs to be retained:"
      ]
    },
    {
      "cell_type": "code",
      "execution_count": 12,
      "metadata": {},
      "outputs": [],
      "source": [
        "LLB = Bs[-1]\n",
        "del Bs"
      ]
    },
    {
      "cell_type": "markdown",
      "metadata": {},
      "source": [
        "## Matvec\n",
        "\n",
        "First, generate a random input:"
      ]
    },
    {
      "cell_type": "code",
      "execution_count": 13,
      "metadata": {},
      "outputs": [],
      "source": [
        "x = np.random.randn(n)"
      ]
    },
    {
      "cell_type": "markdown",
      "metadata": {},
      "source": [
        "### Setup"
      ]
    },
    {
      "cell_type": "code",
      "execution_count": 14,
      "metadata": {},
      "outputs": [],
      "source": [
        "# keys: [ilevel][i, j]\n",
        "betas = [{} for i in range(nlevels+1)]"
      ]
    },
    {
      "cell_type": "markdown",
      "metadata": {},
      "source": [
        "### Level 0"
      ]
    },
    {
      "cell_type": "code",
      "execution_count": 15,
      "metadata": {},
      "outputs": [],
      "source": [
        "lev = Level(0, nlevels, n)\n",
        "\n",
        "assert lev.nblock_rows == 1\n",
        "for i in range(lev.nblock_rows):\n",
        "    for j in range(lev.nblock_cols):\n",
        "        betas[0][i, j] = Ps[0][i, j] @ lev.colview(j, x)"
      ]
    },
    {
      "cell_type": "markdown",
      "metadata": {},
      "source": [
        "### Level 1, ..., L"
      ]
    },
    {
      "cell_type": "code",
      "execution_count": 16,
      "metadata": {},
      "outputs": [],
      "source": [
        "for ilev in range(1, nlevels + 1):\n",
        "    lev = Level(ilev, nlevels, n)\n",
        "\n",
        "    for j in range(lev.nblock_rows):\n",
        "        for k in range(lev.nblock_cols):\n",
        "            beta_glued = np.hstack((\n",
        "                betas[ilev-1][j//2, 2*k],\n",
        "                betas[ilev-1][j//2, 2*k+1]\n",
        "                ))\n",
        "            \n",
        "            betas[ilev][j, k] = Ps[ilev][j, k] @ beta_glued"
      ]
    },
    {
      "cell_type": "markdown",
      "metadata": {},
      "source": [
        "### Postprocess"
      ]
    },
    {
      "cell_type": "code",
      "execution_count": 17,
      "metadata": {},
      "outputs": [],
      "source": [
        "Ax = np.zeros(n, dtype=np.complex128)\n",
        "\n",
        "lev = Level(nlevels, nlevels, n)\n",
        "\n",
        "assert lev.nblock_cols == 1\n",
        "for j in range(lev.nblock_rows):\n",
        "    for k in range(lev.nblock_cols):\n",
        "        lev.rowview(j, Ax)[:] = LLB[j, k] @ betas[nlevels][j, k]"
      ]
    },
    {
      "cell_type": "code",
      "execution_count": 18,
      "metadata": {},
      "outputs": [
        {
          "data": {
            "text/plain": [
              "3.684139472991048e-11"
            ]
          },
          "execution_count": 18,
          "metadata": {},
          "output_type": "execute_result"
        }
      ],
      "source": [
        "la.norm(Ax - A@x)/la.norm(A@x)"
      ]
    },
    {
      "cell_type": "code",
      "execution_count": null,
      "metadata": {},
      "outputs": [],
      "source": []
    }
  ],
  "metadata": {
    "kernelspec": {
      "display_name": "Python 3",
      "language": "python",
      "name": "python3"
    },
    "language_info": {
      "codemirror_mode": {
        "name": "ipython",
        "version": 3
      },
      "file_extension": ".py",
      "mimetype": "text/x-python",
      "name": "python",
      "nbconvert_exporter": "python",
      "pygments_lexer": "ipython3",
      "version": "3.7.4+"
    }
  },
  "nbformat": 4,
  "nbformat_minor": 2
}